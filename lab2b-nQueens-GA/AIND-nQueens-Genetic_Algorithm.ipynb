{
 "cells": [
  {
   "cell_type": "markdown",
   "metadata": {},
   "source": [
    "# I. Introduction\n",
    "\n",
    "In this notebook, we will implement genetic algorithm (**GA**) to solve the n-Queens problem (find an arrangement for n queens on nxn board so that no queen can attack the others). For illustration, we will use 8x8 board and here is an example of solution\n",
    "\n",
    "![8q_solution](example_solution.jpg)\n",
    "\n",
    "First we represent a board configuration as a sequence of each queen's position in each column so the above board can be represented by \n",
    "\n",
    "$$\n",
    "(3, 1, 7, 5, 8, 2, 4, 6)\n",
    "$$\n",
    "\n",
    "Next, we need to define a fitness function, e.g for 8-queens problem, we can use\n",
    "$$\n",
    "\\texttt{fitness}(board) = 28 - \\#\\text{attacking pairs}\n",
    "$$\n",
    "where $\\texttt{fitness}(board)=28$ means no attacking pairs i.e a solution (note that 28 is the maximum number of attacking pairs). So to solve the n-queen is equivalent to maximize the fitness function.\n",
    "\n",
    "The GA contains the following steps\n",
    "1. **Initialization**: we generate randomly a distributed population (we control the number of samples)\n",
    "2. **Selection of parents**: using the fitness function we define the probability of a parent is selected as\n",
    "$$\n",
    "\\mathbb{P}(p_i \\text{ is selected}) = \\frac{\\texttt{fitness}(p_i)}{\\sum_i\\texttt{fitness}(p_i)}\n",
    "$$\n",
    "3. **CrossOver**: once a pair of parents is selected, the crossover/reproduction is illustrated as in the following image\n",
    "![crossover](crossover.png)\n",
    "where the parents are $(3,2,7,5,2,4,1,1)$ and $(2,4,7,4,8,5,5,2)$, we randomly select where to cut the two sequences. Then the first child is the first part of parent 1 and the second part of parent 2, the second child is the first part of parent 2 with the second part of parent 1.\n",
    "4. **Mutation**: for each digit in the sequence we have a small but signficant chance that it will mutate into some other digit as illustrated below\n",
    "![mutation](mutation.png)\n",
    "here the first child has one mutated digit $5\\rightarrow1$. \n",
    "\n",
    "This mimics evolution in biology, the main idea is to handle the case when a critical piece doesn't appears in one stage (e.g at some stage where all board in the population doesn't has a digit then any next generation won't have this digit which makes impossible to find a solution).\n",
    "\n",
    "Let's implement **GA**\n",
    "\n",
    "# II. Representing the board\n",
    "In order to create a population, we need to build a representation of the board"
   ]
  },
  {
   "cell_type": "code",
   "execution_count": 32,
   "metadata": {},
   "outputs": [],
   "source": [
    "import numpy as np\n",
    "\n",
    "def is_attacking(loc1, loc2):\n",
    "    if (loc1[1] == loc2[1]) or (loc1[0] + loc1[1] == loc2[0] + loc2[1]) \\\n",
    "        or (loc1[0] - loc1[1] == loc2[0] - loc2[1]):\n",
    "        return True\n",
    "    else:\n",
    "        return False\n",
    "\n",
    "class Board:\n",
    "    def __init__(self, n, sequences=None):\n",
    "        self._n = n\n",
    "        self._high = n + 1\n",
    "        self._sequences = sequences\n",
    "        if self._sequences is None:\n",
    "            self._sequences = np.random.randint(1, high=self._high, size=(n))\n",
    "        \n",
    "        self._max_ap = self._n * (self._n - 1) // 2\n",
    "    \n",
    "    @property\n",
    "    def length(self):\n",
    "        return self._n\n",
    "    \n",
    "    @property\n",
    "    def sequences(self):\n",
    "        return self._sequences\n",
    "    \n",
    "    def fitness(self):\n",
    "        fit = self._max_ap\n",
    "        for i in range(self._n-1):\n",
    "            for j in range(i+1, self._n):\n",
    "                if is_attacking((i, self._sequences[i]), (j, self._sequences[j])):\n",
    "                    fit -= 1\n",
    "        return fit\n",
    "    \n",
    "    def mutate(self, i):\n",
    "        self._sequences[i] = np.random.randint(1, high=self._high)"
   ]
  },
  {
   "cell_type": "markdown",
   "metadata": {},
   "source": [
    "Let's try it with some example (taken for Udacity's lecture)"
   ]
  },
  {
   "cell_type": "code",
   "execution_count": 21,
   "metadata": {},
   "outputs": [
    {
     "name": "stdout",
     "output_type": "stream",
     "text": [
      "b1 has fitness 23\n",
      "b2 has fitness 21\n",
      "b3 has fitness 22\n"
     ]
    }
   ],
   "source": [
    "b1 = Board(8, np.array([3,2,7,4,8,5,5,2]))\n",
    "b2 = Board(8, np.array([3,2,7,5,2,1,2,4]))\n",
    "b3 = Board(8, np.array([2,4,7,5,2,4,1,1]))\n",
    "print('b1 has fitness {}'.format(b1.fitness()))\n",
    "print('b2 has fitness {}'.format(b2.fitness()))\n",
    "print('b3 has fitness {}'.format(b3.fitness()))"
   ]
  },
  {
   "cell_type": "markdown",
   "metadata": {},
   "source": [
    "# III. CrossOver and Mutation\n",
    "Next, let's implement the **CrossOver** and **Mutation** step"
   ]
  },
  {
   "cell_type": "code",
   "execution_count": 22,
   "metadata": {
    "collapsed": true
   },
   "outputs": [],
   "source": [
    "def crossover(parent1, parent2):\n",
    "    '''\n",
    "    We implement cross-over where each pair of parents produce a child (a bit different with above description)\n",
    "    '''\n",
    "    c = np.random.randint(parent1.length)\n",
    "    child_seq = np.append(parent1.sequences[:c], parent2.sequences[c:])\n",
    "    return Board(parent1.length, child_seq)\n",
    "\n",
    "def mutate(board):\n",
    "    '''\n",
    "    we mutate the board in-place\n",
    "    '''\n",
    "    i = np.random.randint(board.length)\n",
    "    board.mutate(i)"
   ]
  },
  {
   "cell_type": "markdown",
   "metadata": {},
   "source": [
    "Let's try our code on some example"
   ]
  },
  {
   "cell_type": "code",
   "execution_count": 23,
   "metadata": {},
   "outputs": [
    {
     "name": "stdout",
     "output_type": "stream",
     "text": [
      "Child of b1 & b2\n",
      "\t[3 2 7 4 8 5 5 4]\n",
      "After mutated, child c1 becomes\n",
      "\t[3 2 7 4 8 5 5 4]\n"
     ]
    }
   ],
   "source": [
    "c1 = crossover(b1, b2)\n",
    "print('Child of b1 & b2\\n\\t{}'.format(c1.sequences))\n",
    "mutate(c1)\n",
    "print('After mutated, child c1 becomes\\n\\t{}'.format(c1.sequences))"
   ]
  },
  {
   "cell_type": "markdown",
   "metadata": {},
   "source": [
    "# IV. Population and GA\n",
    "Now, the last step is to generate a population and reproduce (crossover/mutation) until we find a solution. We represent it in the class `Population`"
   ]
  },
  {
   "cell_type": "code",
   "execution_count": 75,
   "metadata": {
    "collapsed": true
   },
   "outputs": [],
   "source": [
    "class Population:\n",
    "    def __init__(self, pop_size=100, board_size=8, fitness_eps=1e-5):\n",
    "        self._pop_size   = pop_size\n",
    "        self._board_size = board_size\n",
    "        self._max_ap     = self._board_size * (self._board_size - 1) // 2\n",
    "        self._fitness_eps= fitness_eps\n",
    "        \n",
    "        # randomly generate a population\n",
    "        self._pop = []\n",
    "        for i in range(self._pop_size):\n",
    "            self._pop.append(Board(self._board_size))\n",
    "        \n",
    "        # compute the population fitness distribution\n",
    "        self._fitness = np.zeros(self._pop_size)\n",
    "        self.update_fitness()\n",
    "    \n",
    "    def update_fitness(self):\n",
    "        for i in range(self._pop_size):\n",
    "            self._fitness[i] = self._pop[i].fitness()\n",
    "        \n",
    "        # scaled to make it a distribution\n",
    "        sum_fitness = np.sum(self._fitness)\n",
    "        self._fitness /= sum_fitness\n",
    "    \n",
    "    def reproduce(self):\n",
    "        new_pop = []\n",
    "        for i in range(self._pop_size):\n",
    "            parents = np.random.choice(self._pop_size, 2, replace=False, p = self._fitness)\n",
    "            child = crossover(self._pop[parents[0]], self._pop[parents[1]])            \n",
    "            new_pop.append(child)\n",
    "        \n",
    "        # update population\n",
    "        self._pop = new_pop\n",
    "        self.update_fitness()\n",
    "        \n",
    "        # we mutate a child if it's fitness < eps\n",
    "        for i in range(self._pop_size):\n",
    "            if self._fitness[i] < self._fitness_eps:\n",
    "                mutate(self._pop[i])\n",
    "        \n",
    "        # update fitness\n",
    "        self.update_fitness()\n",
    "        \n",
    "    def has_solution(self):\n",
    "        for i in range(self._pop_size):\n",
    "            if (self._pop[i].fitness() == self._max_ap):\n",
    "                return self._pop[i]\n",
    "        return None\n",
    "\n",
    "def make_row(rowdata, col, empty, full):\n",
    "    items = [col] * (2*len(rowdata) + 1)\n",
    "    items[1::2] = (full if d else empty for d in rowdata)\n",
    "    return ''.join(items)\n",
    "\n",
    "def make_board(queens, col=\"|\", row=\"---\", empty=\"   \", full=\" X \"):\n",
    "    size = len(queens)\n",
    "    bar = make_row(queens, col, row, row)\n",
    "    board = [bar] * (2*size + 1)\n",
    "    board[1::2] = (make_row([i==q for i in range(size)], col, empty, full) for q in queens)\n",
    "    return '\\n'.join(board)\n",
    "    \n",
    "    \n",
    "def genetic_algorithm(pop_size, board_size, fitness_eps=1e-5, max_iters=50):\n",
    "    pop = Population(pop_size, board_size)\n",
    "    sol = None\n",
    "    for i in range(max_iters):\n",
    "        pop.reproduce()\n",
    "        \n",
    "        sol = pop.has_solution()\n",
    "        if sol is not None:\n",
    "            print('At iteration {}, we found a board-solution\\n\\t{}'.format(i, sol.sequences))\n",
    "            print('The board is')\n",
    "            print(make_board(sol.sequences-1))\n",
    "            break\n",
    "    \n",
    "    if sol is None:\n",
    "        print('Reached max iteration {} NO SOLUTION FOUND!!!'.format(max_iters))"
   ]
  },
  {
   "cell_type": "markdown",
   "metadata": {},
   "source": [
    "Let's test our GA on 8x8 board"
   ]
  },
  {
   "cell_type": "code",
   "execution_count": 76,
   "metadata": {},
   "outputs": [
    {
     "name": "stdout",
     "output_type": "stream",
     "text": [
      "At iteration 33, we found a board-solution\n",
      "\t[4 8 5 3 1 7 2 6]\n",
      "The board is\n",
      "|---|---|---|---|---|---|---|---|\n",
      "|   |   |   | X |   |   |   |   |\n",
      "|---|---|---|---|---|---|---|---|\n",
      "|   |   |   |   |   |   |   | X |\n",
      "|---|---|---|---|---|---|---|---|\n",
      "|   |   |   |   | X |   |   |   |\n",
      "|---|---|---|---|---|---|---|---|\n",
      "|   |   | X |   |   |   |   |   |\n",
      "|---|---|---|---|---|---|---|---|\n",
      "| X |   |   |   |   |   |   |   |\n",
      "|---|---|---|---|---|---|---|---|\n",
      "|   |   |   |   |   |   | X |   |\n",
      "|---|---|---|---|---|---|---|---|\n",
      "|   | X |   |   |   |   |   |   |\n",
      "|---|---|---|---|---|---|---|---|\n",
      "|   |   |   |   |   | X |   |   |\n",
      "|---|---|---|---|---|---|---|---|\n"
     ]
    }
   ],
   "source": [
    "genetic_algorithm(1000, 8, 1e-4, max_iters=100)"
   ]
  },
  {
   "cell_type": "markdown",
   "metadata": {},
   "source": [
    "The GA works fine and it can find solution for 8x8 board, however it's still a bit slow. Can we tune it to make it to run faster?"
   ]
  }
 ],
 "metadata": {
  "kernelspec": {
   "display_name": "Python 3",
   "language": "python",
   "name": "python3"
  },
  "language_info": {
   "codemirror_mode": {
    "name": "ipython",
    "version": 3
   },
   "file_extension": ".py",
   "mimetype": "text/x-python",
   "name": "python",
   "nbconvert_exporter": "python",
   "pygments_lexer": "ipython3",
   "version": "3.6.1"
  }
 },
 "nbformat": 4,
 "nbformat_minor": 2
}
