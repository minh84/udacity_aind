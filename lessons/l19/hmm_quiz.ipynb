{
 "cells": [
  {
   "cell_type": "markdown",
   "metadata": {},
   "source": [
    "In this note, we implement Viterbi Path Searching, we consider example from Udacity's lesson-19 on HMMs quiz 27"
   ]
  },
  {
   "cell_type": "code",
   "execution_count": 24,
   "metadata": {},
   "outputs": [
    {
     "name": "stdout",
     "output_type": "stream",
     "text": [
      "Final state [  0.00000000e+00   0.00000000e+00   1.41557760e-05]\n"
     ]
    }
   ],
   "source": [
    "import numpy as np\n",
    "\n",
    "# transistion matrix\n",
    "T = np.zeros((3, 3))\n",
    "T[0, 0] = .8\n",
    "T[0, 1] = .2\n",
    "T[1, 1] = .5\n",
    "T[1, 2] = .5\n",
    "T[2, 2] = .8\n",
    "\n",
    "# state probability\n",
    "P = []\n",
    "P.append([0.5,   1e-7, .0])\n",
    "P.append([0.6,   1e-5, 1e-4])\n",
    "\n",
    "P.append([0.005, 0.4,  0.015])\n",
    "\n",
    "P.append([0.01,  0.9,  0.01])\n",
    "\n",
    "P.append([0.005, 0.4,  0.005])\n",
    "\n",
    "P.append([1e-4, 1e-6, .8])\n",
    "P.append([0,    1e-6, .8])\n",
    "P.append([0,    0,    .5])\n",
    "\n",
    "def viterbi_path(T, P, S0, debug = False):\n",
    "    # dynamics states\n",
    "    S = S0.copy()\n",
    "\n",
    "    for i in range(len(P)):\n",
    "        prev_state = S[0]\n",
    "        for j in range(3):\n",
    "            sjj = S[j] * T[j, j]\n",
    "            if j > 0:\n",
    "                sjj = max(sjj, prev_state * T[j-1, j])\n",
    "            prev_state = S[j]\n",
    "            S[j] = sjj * P[i][j]\n",
    "        if debug:\n",
    "            print (i, S)\n",
    "    \n",
    "    S *= (1 - T[-1, -1])\n",
    "    return S\n",
    "\n",
    "S0 = np.array([0.5, 0., 0.])\n",
    "\n",
    "S = viterbi_path(T, P, S0)\n",
    "print ('Final state {}'.format(S))"
   ]
  },
  {
   "cell_type": "markdown",
   "metadata": {},
   "source": [
    "And for quiz 28"
   ]
  },
  {
   "cell_type": "code",
   "execution_count": 25,
   "metadata": {},
   "outputs": [
    {
     "name": "stdout",
     "output_type": "stream",
     "text": [
      "Final state [  0.00000000e+00   0.00000000e+00   2.91325870e-05]\n"
     ]
    }
   ],
   "source": [
    "# transistion matrix\n",
    "T = np.zeros((3, 3))\n",
    "T[0, 0] = .8\n",
    "T[0, 1] = .2\n",
    "T[1, 1] = .7\n",
    "T[1, 2] = .3\n",
    "T[2, 2] = .8\n",
    "\n",
    "# state probability\n",
    "P = []\n",
    "P.append([0.5,   1e-4, .0])\n",
    "P.append([0.6,   .01, 1e-4])\n",
    "\n",
    "P.append([0.005, 0.6,  0.015])\n",
    "\n",
    "P.append([0.01,  0.7,  0.01])\n",
    "\n",
    "P.append([0.015, 0.6,  0.005])\n",
    "\n",
    "P.append([1e-4, 1e-3, .8])\n",
    "P.append([0,    1e-3, .8])\n",
    "P.append([0,    0,    .5])\n",
    "\n",
    "S = viterbi_path(T, P, S0)\n",
    "print ('Final state {}'.format(S))"
   ]
  }
 ],
 "metadata": {
  "kernelspec": {
   "display_name": "Python 3",
   "language": "python",
   "name": "python3"
  },
  "language_info": {
   "codemirror_mode": {
    "name": "ipython",
    "version": 3
   },
   "file_extension": ".py",
   "mimetype": "text/x-python",
   "name": "python",
   "nbconvert_exporter": "python",
   "pygments_lexer": "ipython3",
   "version": "3.6.1"
  }
 },
 "nbformat": 4,
 "nbformat_minor": 2
}
