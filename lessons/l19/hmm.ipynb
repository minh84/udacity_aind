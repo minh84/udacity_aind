{
 "cells": [
  {
   "cell_type": "markdown",
   "metadata": {},
   "source": [
    "# Hidden Markov Models\n",
    "In this notebook we go through Hidden Markov Models (HHMs) from definition to implementation. We look at the following toy example (taken from Sebastian Thrun's lesson **Happy Grumpy Problem**):\n",
    "\n",
    "[hgp]: ./assets/rainsun_happygrumpy.png\n",
    "\n",
    "<center>\n",
    "\n",
    "![alt text][hgp]\n",
    "\n",
    "</center>\n",
    "where we can only observe if person is Happy or Grumpy but not the rain/sun (hidden-state).\n",
    "\n",
    "Let's define some notation for HMMs\n",
    "\n",
    "* $\\pi$: initial distribution of hidden state\n",
    "* $a_{ij}$: represents the transition from state $i$ to state $j$\n",
    "* $A = \\left(a_{ij}\\right)$: the set of state transition probabilites\n",
    "* $s_t$: the state at time $t$: \n",
    "$$s_t = i \\text{ with } i\\in\\left\\{\\text{rain, sun}\\right\\} $$\n",
    "* $o_t$: the observation at time $t$: \n",
    "$$o_t = k \\text{ with }k\\in\\left\\{\\text{happy, grumpy}\\right\\} $$\n",
    "* $b$: state output probability i.e\n",
    "$$b_i(k) \\text{ represents the probability of generating }k \\text{ in state }i$$\n",
    "* $B = \\left(b_i(k)\\right)$ the set of state output probabilities\n",
    "* a HMM is often represented by a tuple of $(\\pi, A, B)$\n",
    "\n",
    "The following notebook is organized as following\n",
    "\n",
    "* Generating rain-sun/happy-grumpy\n",
    "* Training HMMs using above generated observation to recover original probability"
   ]
  },
  {
   "cell_type": "markdown",
   "metadata": {},
   "source": [
    "## Generating data\n",
    "We use the following parameters for our HMM\n",
    "* $\\pi = [0.5, 0.5]$ i.e \n",
    "$$P(s_0 = \\text{rain}) = P(s_0=\\text{sun}) = 0.5$$\n",
    "* transition matrix is given below\n",
    "$$\n",
    "\\begin{array}{lcc}\n",
    "            & s_{t+1}\\\\\n",
    "     s_t    & \\text{rain} & \\text{sun}\\\\\n",
    "\\text{rain} & 0.6  & 0.4\\\\\n",
    "\\text{sun}  & 0.2  & 0.8\n",
    "\\end{array}\n",
    "$$\n",
    "i.e \n",
    "\\begin{split}\n",
    "P(s_{t+1}=\\text{rain}\\left|\\ s_t=\\text{rain}\\right.) &= 0.6\\\\\n",
    "P(s_{t+1}=\\text{sun}\\left|\\ s_t=\\text{rain}\\right.) &= 0.4\\\\\n",
    "P(s_{t+1}=\\text{rain}\\left|\\ s_t=\\text{sun}\\right.) &= 0.2\\\\\n",
    "P(s_{t+1}=\\text{sun}\\left|\\ s_t=\\text{sun}\\right.) &= 0.8\n",
    "\\end{split}\n",
    "* state output probabilites is\n",
    "$$\n",
    "\\begin{array}{lcc}\n",
    "& o_t \\\\\n",
    "     s_t    & \\text{grumpy} & \\text{happy} \\\\\n",
    "\\text{rain} & 0.6  & 0.4\\\\\n",
    "\\text{sun}  & 0.1  & 0.9\n",
    "\\end{array}\n",
    "$$\n",
    "i.e\n",
    "\\begin{split}\n",
    "P(o_t=\\text{happy}\\left|\\ s_t=\\text{rain}\\right.) &= 0.4\\\\\n",
    "P(o_t=\\text{grumpy}\\left|\\ s_t=\\text{rain}\\right.) &= 0.6\\\\\n",
    "P(o_t=\\text{happy}\\left|\\ s_t=\\text{sun}\\right.) &= 0.9\\\\\n",
    "P(o_t=\\text{grumpy}\\left|\\ s_t=\\text{sun}\\right.) &= 0.1\n",
    "\\end{split}"
   ]
  },
  {
   "cell_type": "code",
   "execution_count": 1,
   "metadata": {
    "collapsed": true
   },
   "outputs": [],
   "source": [
    "import numpy as np\n",
    "\n",
    "# initial probabilities\n",
    "P0 = np.array([0.5, 0.5])\n",
    "\n",
    "# transition probabilities\n",
    "A = np.array([[0.6, 0.4],\n",
    "              [0.2, 0.8]])\n",
    "\n",
    "# output probabilities\n",
    "B = np.array([[0.6, 0.4],\n",
    "              [0.1, 0.9]])"
   ]
  },
  {
   "cell_type": "markdown",
   "metadata": {},
   "source": [
    "We implement utility functions to generate hidden-states and output-states"
   ]
  },
  {
   "cell_type": "code",
   "execution_count": 9,
   "metadata": {
    "collapsed": true
   },
   "outputs": [],
   "source": [
    "def generate_hidden_states(P0, A, T):\n",
    "    uv = np.random.uniform(size=(T+1))\n",
    "    s0 = 0 if uv[0] < P0[0] else 1\n",
    "    st = s0\n",
    "    hidden_states = []\n",
    "    for i in range(1, T+1):\n",
    "        Pcond = A[st]\n",
    "        if uv[i] < Pcond[0]:\n",
    "            hidden_states.append('R')\n",
    "            st = 0\n",
    "        else:\n",
    "            hidden_states.append('S')\n",
    "            st = 1\n",
    "    return hidden_states\n",
    "\n",
    "def generate_output_states(B, hidden_states):\n",
    "    uv = np.random.uniform(size=(len(hidden_states)))\n",
    "    out_states = []\n",
    "    for i,s in enumerate(hidden_states):\n",
    "        s_idx = 0 if s == 'R' else 1\n",
    "        Pcond = B[s_idx,:]\n",
    "        if uv[i] < Pcond[0]:\n",
    "            out_states.append('G')\n",
    "        else:\n",
    "            out_states.append('H')\n",
    "    return out_states\n",
    "            \n",
    "def generate_hmm_seq(P0, A, B, T):\n",
    "    hidden_states = generate_hidden_states(P0, A, T)\n",
    "    out_states = generate_output_states(B, hidden_states)\n",
    "    return out_states"
   ]
  },
  {
   "cell_type": "markdown",
   "metadata": {},
   "source": [
    "We generate 10-sequences, each sequences of length $T=20$"
   ]
  },
  {
   "cell_type": "code",
   "execution_count": 18,
   "metadata": {},
   "outputs": [
    {
     "name": "stdout",
     "output_type": "stream",
     "text": [
      "Observation 0-th:\tHGHHHHHHHHHGHGGHHHHH\n",
      "Observation 1-th:\tHHHHHHHHHHHHHHHHGHHG\n",
      "Observation 2-th:\tGGGHHHHHHHHHHHHHHHHH\n",
      "Observation 3-th:\tGGHHGGHHHHHHHHHHHHHH\n",
      "Observation 4-th:\tGHHHHHGHHHHGGHHHHHHH\n",
      "Observation 5-th:\tGGHHGHGGHHHHHGHHHGHG\n",
      "Observation 6-th:\tHHHGHGHHHHHGHHHHHHHH\n",
      "Observation 7-th:\tHHHHHHGHGHGHHGHHGGHH\n",
      "Observation 8-th:\tHHHHHHHHHHHHHHHHHHHH\n",
      "Observation 9-th:\tHGHHHHHHHHHHHHHHGGGH\n"
     ]
    }
   ],
   "source": [
    "training_datas = []\n",
    "N = 10\n",
    "T = 20\n",
    "for i in range(N):\n",
    "    training_datas.append(generate_hmm_seq(P0, A, B, T))\n",
    "\n",
    "for i in range(N):\n",
    "    print ('Observation {}-th:\\t{}'.format(i, ''.join(training_datas[i])))"
   ]
  },
  {
   "cell_type": "markdown",
   "metadata": {},
   "source": [
    "## HMM Decoding/Training\n",
    "Now, given above observation data, one can ask question: can we recover the parameters for our HMM i.e find \n",
    "\n",
    "$$(\\pi, A, B)\\text{ that maximizes the chance that we see above observation.}$$\n",
    "\n",
    "We will look at the following algorithm\n",
    "* [Viterbi algorithm](https://en.wikipedia.org/wiki/Viterbi_algorithm) for finding the most **likely** sequence of hidden states - called the **Viterbi path**\n",
    "* [Baum–Welch algorithm](https://en.wikipedia.org/wiki/Baum%E2%80%93Welch_algorithm) for finding the unknown parameters of a HMM\n",
    "\n",
    "### Viterbi algorithm"
   ]
  }
 ],
 "metadata": {
  "kernelspec": {
   "display_name": "Python 3",
   "language": "python",
   "name": "python3"
  },
  "language_info": {
   "codemirror_mode": {
    "name": "ipython",
    "version": 3
   },
   "file_extension": ".py",
   "mimetype": "text/x-python",
   "name": "python",
   "nbconvert_exporter": "python",
   "pygments_lexer": "ipython3",
   "version": "3.6.1"
  }
 },
 "nbformat": 4,
 "nbformat_minor": 2
}
