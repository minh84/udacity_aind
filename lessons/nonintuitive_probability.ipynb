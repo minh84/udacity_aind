{
 "cells": [
  {
   "cell_type": "markdown",
   "metadata": {},
   "source": [
    "# Nonintutive Probability\n",
    "In this notebook we go through some nonintutive probability examples\n",
    "\n",
    "## Expected number of throw\n",
    "We want to compute expected number of throws to obtain HH or HT\n",
    "* For the case of HT, denote $x$ is the expected number we have\n",
    "$$\n",
    "x = \\left\\{\\begin{array}{ll}\n",
    "\\frac{2}{4} + \\frac{3}{8} +\\ldots &\\text{if the first throw is H}\\\\\n",
    "\\frac{1}{2}(1 + x) & \\text{otherwise i.e the first throw is T}\n",
    "\\end{array}\\right.\n",
    "$$\n",
    "which implies\n",
    "$$\n",
    "x = \\frac{3}{2} + \\frac{1}{2}(1+x) \\Rightarrow x = 4\n",
    "$$\n",
    "* For the case of HH, using the same argument, we have\n",
    "$$\n",
    "x = \\frac{2}{4} + \\frac{1}{4}(2+x) + \\frac{1}{2}(1+x) \\Rightarrow x = 6\n",
    "$$\n",
    "\n",
    "To verify the theory, we simulate above experiment using MC"
   ]
  },
  {
   "cell_type": "code",
   "execution_count": 1,
   "metadata": {
    "collapsed": true
   },
   "outputs": [],
   "source": [
    "import numpy as np\n",
    "\n",
    "def sim_expected_len(N, h0, h1):\n",
    "    len_sum = 0\n",
    "    \n",
    "    for i in range(N):\n",
    "        sl = np.random.uniform() < 0.5\n",
    "        seq_len = 1\n",
    "        while (True):\n",
    "            sr = np.random.uniform() < 0.5\n",
    "            seq_len += 1\n",
    "            if (sl == h0 and sr == h1):\n",
    "                len_sum += seq_len\n",
    "                break\n",
    "            else:\n",
    "                sl = sr\n",
    "    return len_sum / N"
   ]
  },
  {
   "cell_type": "code",
   "execution_count": 3,
   "metadata": {},
   "outputs": [
    {
     "data": {
      "text/plain": [
       "5.99134"
      ]
     },
     "execution_count": 3,
     "metadata": {},
     "output_type": "execute_result"
    }
   ],
   "source": [
    "sim_expected_len(100000, True, True)"
   ]
  },
  {
   "cell_type": "code",
   "execution_count": 4,
   "metadata": {},
   "outputs": [
    {
     "data": {
      "text/plain": [
       "3.99827"
      ]
     },
     "execution_count": 4,
     "metadata": {},
     "output_type": "execute_result"
    }
   ],
   "source": [
    "sim_expected_len(100000, True, False)"
   ]
  },
  {
   "cell_type": "markdown",
   "metadata": {},
   "source": [
    "The MC results confirm that expected for HH is 6 and HT is 4.\n",
    "\n",
    "## Monty Hall problem\n",
    "Now let's look at [Monty Hall problem](https://en.wikipedia.org/wiki/Monty_Hall_problem), we modify the original a bit to make it more easily to simulate\n",
    "* player chose door 2\n",
    "* host open door 0 or door 1 (and show it contains a goat)\n",
    "* player either switch to new door or stay with the old one"
   ]
  },
  {
   "cell_type": "code",
   "execution_count": 5,
   "metadata": {
    "collapsed": true
   },
   "outputs": [],
   "source": [
    "def agent_keep(open_door):\n",
    "    return 2\n",
    "\n",
    "def agent_switch(open_door):\n",
    "    return 1 - open_door\n",
    "\n",
    "def sim_monty_hall(N, agent):\n",
    "    nb_win = 0\n",
    "    for i in range(N):\n",
    "        a = np.array([0,0,0])\n",
    "        x = np.random.uniform()\n",
    "        open_door = None\n",
    "        if x < 1/3:\n",
    "            a[0] = 1\n",
    "            open_door = 1\n",
    "        elif x < 2/3:\n",
    "            a[1] = 1\n",
    "            open_door = 0\n",
    "        else:\n",
    "            a[2] = 1\n",
    "            open_door = 0 if np.random.uniform() < 0.5 else 1\n",
    "        \n",
    "        chosen_door = agent(open_door)\n",
    "        if (a[chosen_door] == 1):\n",
    "            nb_win += 1\n",
    "    return nb_win / N"
   ]
  },
  {
   "cell_type": "code",
   "execution_count": 6,
   "metadata": {},
   "outputs": [
    {
     "data": {
      "text/plain": [
       "0.3289"
      ]
     },
     "execution_count": 6,
     "metadata": {},
     "output_type": "execute_result"
    }
   ],
   "source": [
    "sim_monty_hall(10000, agent_keep)"
   ]
  },
  {
   "cell_type": "code",
   "execution_count": 7,
   "metadata": {},
   "outputs": [
    {
     "data": {
      "text/plain": [
       "0.6572"
      ]
     },
     "execution_count": 7,
     "metadata": {},
     "output_type": "execute_result"
    }
   ],
   "source": [
    "sim_monty_hall(10000, agent_switch)"
   ]
  }
 ],
 "metadata": {
  "kernelspec": {
   "display_name": "Python 3",
   "language": "python",
   "name": "python3"
  },
  "language_info": {
   "codemirror_mode": {
    "name": "ipython",
    "version": 3
   },
   "file_extension": ".py",
   "mimetype": "text/x-python",
   "name": "python",
   "nbconvert_exporter": "python",
   "pygments_lexer": "ipython3",
   "version": "3.6.1"
  }
 },
 "nbformat": 4,
 "nbformat_minor": 2
}
