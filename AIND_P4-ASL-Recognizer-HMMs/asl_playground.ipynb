{
 "cells": [
  {
   "cell_type": "markdown",
   "metadata": {},
   "source": [
    "# ASL Playground\n",
    "In this notebook we experiment with data-structure for ASL project.\n",
    "\n",
    "## ASL Dataset\n",
    "First, let's look at `asl_data.py`, we have\n",
    "\n",
    "* `AslDb`: a database for ASL\n",
    "* `WordsData`: a data-structure that provides loading and getters for ASL-database suitable for `hmmlearn`\n",
    "* `SinglesData`: similar as `WordsData`"
   ]
  },
  {
   "cell_type": "code",
   "execution_count": 2,
   "metadata": {},
   "outputs": [
    {
     "data": {
      "text/html": [
       "<div>\n",
       "<table border=\"1\" class=\"dataframe\">\n",
       "  <thead>\n",
       "    <tr style=\"text-align: right;\">\n",
       "      <th></th>\n",
       "      <th></th>\n",
       "      <th>left-x</th>\n",
       "      <th>left-y</th>\n",
       "      <th>right-x</th>\n",
       "      <th>right-y</th>\n",
       "      <th>nose-x</th>\n",
       "      <th>nose-y</th>\n",
       "      <th>speaker</th>\n",
       "    </tr>\n",
       "    <tr>\n",
       "      <th>video</th>\n",
       "      <th>frame</th>\n",
       "      <th></th>\n",
       "      <th></th>\n",
       "      <th></th>\n",
       "      <th></th>\n",
       "      <th></th>\n",
       "      <th></th>\n",
       "      <th></th>\n",
       "    </tr>\n",
       "  </thead>\n",
       "  <tbody>\n",
       "    <tr>\n",
       "      <th rowspan=\"5\" valign=\"top\">98</th>\n",
       "      <th>0</th>\n",
       "      <td>149</td>\n",
       "      <td>181</td>\n",
       "      <td>170</td>\n",
       "      <td>175</td>\n",
       "      <td>161</td>\n",
       "      <td>62</td>\n",
       "      <td>woman-1</td>\n",
       "    </tr>\n",
       "    <tr>\n",
       "      <th>1</th>\n",
       "      <td>149</td>\n",
       "      <td>181</td>\n",
       "      <td>170</td>\n",
       "      <td>175</td>\n",
       "      <td>161</td>\n",
       "      <td>62</td>\n",
       "      <td>woman-1</td>\n",
       "    </tr>\n",
       "    <tr>\n",
       "      <th>2</th>\n",
       "      <td>149</td>\n",
       "      <td>181</td>\n",
       "      <td>170</td>\n",
       "      <td>175</td>\n",
       "      <td>161</td>\n",
       "      <td>62</td>\n",
       "      <td>woman-1</td>\n",
       "    </tr>\n",
       "    <tr>\n",
       "      <th>3</th>\n",
       "      <td>149</td>\n",
       "      <td>181</td>\n",
       "      <td>170</td>\n",
       "      <td>175</td>\n",
       "      <td>161</td>\n",
       "      <td>62</td>\n",
       "      <td>woman-1</td>\n",
       "    </tr>\n",
       "    <tr>\n",
       "      <th>4</th>\n",
       "      <td>149</td>\n",
       "      <td>181</td>\n",
       "      <td>170</td>\n",
       "      <td>175</td>\n",
       "      <td>161</td>\n",
       "      <td>62</td>\n",
       "      <td>woman-1</td>\n",
       "    </tr>\n",
       "  </tbody>\n",
       "</table>\n",
       "</div>"
      ],
      "text/plain": [
       "             left-x  left-y  right-x  right-y  nose-x  nose-y  speaker\n",
       "video frame                                                           \n",
       "98    0         149     181      170      175     161      62  woman-1\n",
       "      1         149     181      170      175     161      62  woman-1\n",
       "      2         149     181      170      175     161      62  woman-1\n",
       "      3         149     181      170      175     161      62  woman-1\n",
       "      4         149     181      170      175     161      62  woman-1"
      ]
     },
     "execution_count": 2,
     "metadata": {},
     "output_type": "execute_result"
    }
   ],
   "source": [
    "import numpy as np\n",
    "import pandas as pd\n",
    "from asl_data import AslDb\n",
    "\n",
    "\n",
    "asl = AslDb() # initializes the database\n",
    "asl.df.head() # displays the first five rows of the asl database, indexed by video and frame"
   ]
  },
  {
   "cell_type": "markdown",
   "metadata": {},
   "source": [
    "Looking at the code, we see that\n",
    "* `AslDb` just loads data from a csv and stores data in a `pd.DataFrame` using [`video`, `frame`] as index\n",
    "* `AslDb` allows build training/testing data where training/testing-data is represented by `WordsData/SinglesData` respectively\n",
    "\n",
    "Note that, one can modify `asl.df` easily since it's a `pd.DataFrame` e.g computing relative hand's position with nose's position"
   ]
  },
  {
   "cell_type": "code",
   "execution_count": 3,
   "metadata": {},
   "outputs": [
    {
     "data": {
      "text/html": [
       "<div>\n",
       "<table border=\"1\" class=\"dataframe\">\n",
       "  <thead>\n",
       "    <tr style=\"text-align: right;\">\n",
       "      <th></th>\n",
       "      <th></th>\n",
       "      <th>left-x</th>\n",
       "      <th>left-y</th>\n",
       "      <th>right-x</th>\n",
       "      <th>right-y</th>\n",
       "      <th>nose-x</th>\n",
       "      <th>nose-y</th>\n",
       "      <th>speaker</th>\n",
       "      <th>grnd-ry</th>\n",
       "      <th>grnd-rx</th>\n",
       "      <th>grnd-ly</th>\n",
       "      <th>grnd-lx</th>\n",
       "    </tr>\n",
       "    <tr>\n",
       "      <th>video</th>\n",
       "      <th>frame</th>\n",
       "      <th></th>\n",
       "      <th></th>\n",
       "      <th></th>\n",
       "      <th></th>\n",
       "      <th></th>\n",
       "      <th></th>\n",
       "      <th></th>\n",
       "      <th></th>\n",
       "      <th></th>\n",
       "      <th></th>\n",
       "      <th></th>\n",
       "    </tr>\n",
       "  </thead>\n",
       "  <tbody>\n",
       "    <tr>\n",
       "      <th rowspan=\"5\" valign=\"top\">98</th>\n",
       "      <th>0</th>\n",
       "      <td>149</td>\n",
       "      <td>181</td>\n",
       "      <td>170</td>\n",
       "      <td>175</td>\n",
       "      <td>161</td>\n",
       "      <td>62</td>\n",
       "      <td>woman-1</td>\n",
       "      <td>113</td>\n",
       "      <td>9</td>\n",
       "      <td>119</td>\n",
       "      <td>-12</td>\n",
       "    </tr>\n",
       "    <tr>\n",
       "      <th>1</th>\n",
       "      <td>149</td>\n",
       "      <td>181</td>\n",
       "      <td>170</td>\n",
       "      <td>175</td>\n",
       "      <td>161</td>\n",
       "      <td>62</td>\n",
       "      <td>woman-1</td>\n",
       "      <td>113</td>\n",
       "      <td>9</td>\n",
       "      <td>119</td>\n",
       "      <td>-12</td>\n",
       "    </tr>\n",
       "    <tr>\n",
       "      <th>2</th>\n",
       "      <td>149</td>\n",
       "      <td>181</td>\n",
       "      <td>170</td>\n",
       "      <td>175</td>\n",
       "      <td>161</td>\n",
       "      <td>62</td>\n",
       "      <td>woman-1</td>\n",
       "      <td>113</td>\n",
       "      <td>9</td>\n",
       "      <td>119</td>\n",
       "      <td>-12</td>\n",
       "    </tr>\n",
       "    <tr>\n",
       "      <th>3</th>\n",
       "      <td>149</td>\n",
       "      <td>181</td>\n",
       "      <td>170</td>\n",
       "      <td>175</td>\n",
       "      <td>161</td>\n",
       "      <td>62</td>\n",
       "      <td>woman-1</td>\n",
       "      <td>113</td>\n",
       "      <td>9</td>\n",
       "      <td>119</td>\n",
       "      <td>-12</td>\n",
       "    </tr>\n",
       "    <tr>\n",
       "      <th>4</th>\n",
       "      <td>149</td>\n",
       "      <td>181</td>\n",
       "      <td>170</td>\n",
       "      <td>175</td>\n",
       "      <td>161</td>\n",
       "      <td>62</td>\n",
       "      <td>woman-1</td>\n",
       "      <td>113</td>\n",
       "      <td>9</td>\n",
       "      <td>119</td>\n",
       "      <td>-12</td>\n",
       "    </tr>\n",
       "  </tbody>\n",
       "</table>\n",
       "</div>"
      ],
      "text/plain": [
       "             left-x  left-y  right-x  right-y  nose-x  nose-y  speaker  \\\n",
       "video frame                                                              \n",
       "98    0         149     181      170      175     161      62  woman-1   \n",
       "      1         149     181      170      175     161      62  woman-1   \n",
       "      2         149     181      170      175     161      62  woman-1   \n",
       "      3         149     181      170      175     161      62  woman-1   \n",
       "      4         149     181      170      175     161      62  woman-1   \n",
       "\n",
       "             grnd-ry  grnd-rx  grnd-ly  grnd-lx  \n",
       "video frame                                      \n",
       "98    0          113        9      119      -12  \n",
       "      1          113        9      119      -12  \n",
       "      2          113        9      119      -12  \n",
       "      3          113        9      119      -12  \n",
       "      4          113        9      119      -12  "
      ]
     },
     "execution_count": 3,
     "metadata": {},
     "output_type": "execute_result"
    }
   ],
   "source": [
    "asl.df['grnd-ry'] = asl.df['right-y'] - asl.df['nose-y']\n",
    "asl.df['grnd-rx'] = asl.df['right-x'] - asl.df['nose-x']\n",
    "asl.df['grnd-ly'] = asl.df['left-y']  - asl.df['nose-y']\n",
    "asl.df['grnd-lx'] = asl.df['left-x']  - asl.df['nose-x']\n",
    "asl.df.head()"
   ]
  },
  {
   "cell_type": "markdown",
   "metadata": {},
   "source": [
    "To build a training data, we need to provide a `feature_list` i.e column-names to be used as features e.g"
   ]
  },
  {
   "cell_type": "code",
   "execution_count": 4,
   "metadata": {
    "collapsed": true
   },
   "outputs": [],
   "source": [
    "features_ground = ['grnd-rx','grnd-ry','grnd-lx','grnd-ly']\n",
    "training = asl.build_training(features_ground)"
   ]
  },
  {
   "cell_type": "markdown",
   "metadata": {},
   "source": [
    "Above `training` is an instance of `WordsData` with following members\n",
    "* `self._data`: a dictionary between word -> a list of sequences where each sequence is observed feature-values for the corresponding word\n",
    "* `self._hmm_data`: for each word, we concatenate observed sequences and we keep a sequence length e.g\n",
    "      'I' : [[1,2,3], [4,5]] will become ([1,2,3,4,5], [3, 2])\n",
    "this is suitable format for using `hmmlearn`\n",
    "* `self.num_items`: number of words\n",
    "* `self.words`: list of all words   "
   ]
  },
  {
   "cell_type": "code",
   "execution_count": 5,
   "metadata": {},
   "outputs": [
    {
     "name": "stdout",
     "output_type": "stream",
     "text": [
      "word0:            JOHN\n",
      "number of seq for JOHN = 113\n",
      "\n",
      "concate seq has len   = 1189\n",
      "first 10-lengths      = [10, 12, 12, 22, 14, 16, 9, 9, 9, 7]\n",
      "mean/min/max length   = 10.522/5/27\n"
     ]
    }
   ],
   "source": [
    "word0 = training.words[0]\n",
    "print('word0:            {}'.format(word0))\n",
    "print('number of seq for {} = {}\\n'.format(word0, len(training.get_word_sequences(word0))))\n",
    "X, lengths = training.get_word_Xlengths(word0)\n",
    "print('concate seq has len   = {}'.format(len(X)))\n",
    "print('first 10-lengths      = {}'.format(lengths[:10]))\n",
    "print('mean/min/max length   = {:.3f}/{}/{}'.format(np.mean(lengths), np.min(lengths), np.max(lengths)))"
   ]
  },
  {
   "cell_type": "markdown",
   "metadata": {},
   "source": [
    "Let's look at `testing` dataset which can be created via `AslDb.build_test` given a `feature_list`"
   ]
  },
  {
   "cell_type": "code",
   "execution_count": 8,
   "metadata": {
    "collapsed": true
   },
   "outputs": [],
   "source": [
    "test_set =  asl.build_test(features_ground)"
   ]
  },
  {
   "cell_type": "markdown",
   "metadata": {},
   "source": [
    "Above `test_set` is an instance of `SinglesData` with following members\n",
    "* `self.df`: loaded pd.DataFrame from a csv\n",
    "* `self._data`: similar as above with the only difference is that the key is now a number instead of a word\n",
    "* `self._hmm_data`: similar as above with the only difference is that the key is now a number instead of a word\n",
    "* `self.sentences_index`: a map from video-index -> sequences of frame-indices e.g\n",
    "    $$2 \\rightarrow [0, 1, 2]:\\text{ means frame 0, 1, 2 belongs to video index 2}$$"
   ]
  },
  {
   "cell_type": "code",
   "execution_count": 28,
   "metadata": {},
   "outputs": [
    {
     "name": "stdout",
     "output_type": "stream",
     "text": [
      "Number of frame 178\n",
      "\n",
      "Few row of data\n",
      "   video  speaker      word  startframe  endframe\n",
      "0      2  woman-1      JOHN           7        20\n",
      "1      2  woman-1     WRITE          23        36\n",
      "2      2  woman-1  HOMEWORK          38        63\n",
      "3      7    man-1      JOHN          22        39\n",
      "4      7    man-1       CAN          42        47\n",
      "\n",
      "Number of video 40\n",
      "\n",
      "Video [28] has sequence [24, 25, 26, 27, 28]\n",
      "Video [28] has words    ['JOHN', 'LIKE', 'IX', 'IX', 'IX']\n",
      "\n",
      "Video [167] has sequence [141, 142, 143, 144, 145]\n",
      "Video [167] has words    ['JOHN', 'IX', 'SAY', 'LOVE', 'MARY']\n",
      "\n",
      "Video [92] has sequence [96, 97, 98, 99, 100, 101]\n",
      "Video [92] has words    ['JOHN', 'GIVE', 'IX', 'SOMETHING-ONE', 'WOMAN', 'BOOK']\n",
      "\n",
      "Video [119] has sequence [120, 121, 122, 123, 124]\n",
      "Video [119] has words    ['SUE', 'BUY', 'IX', 'CAR', 'BLUE']\n",
      "\n",
      "Video [199] has sequence [169, 170, 171]\n",
      "Video [199] has words    ['LIKE', 'CHOCOLATE', 'WHO']\n",
      "\n",
      "Video [89] has sequence [83, 84, 85, 86, 87, 88, 89]\n",
      "Video [89] has words    ['JOHN', 'IX', 'GIVE', 'MAN', 'IX', 'NEW', 'COAT']\n",
      "\n",
      "Video [119] has sequence [120, 121, 122, 123, 124]\n",
      "Video [119] has words    ['SUE', 'BUY', 'IX', 'CAR', 'BLUE']\n",
      "\n",
      "Video [107] has sequence [108, 109, 110, 111, 112]\n",
      "Video [107] has words    ['JOHN', 'POSS', 'FRIEND', 'HAVE', 'CANDY']\n",
      "\n",
      "Video [89] has sequence [83, 84, 85, 86, 87, 88, 89]\n",
      "Video [89] has words    ['JOHN', 'IX', 'GIVE', 'MAN', 'IX', 'NEW', 'COAT']\n",
      "\n",
      "Video [113] has sequence [115, 116, 117, 118, 119]\n",
      "Video [113] has words    ['IX', 'CAR', 'BLUE', 'SUE', 'BUY']\n",
      "\n"
     ]
    }
   ],
   "source": [
    "print('Number of frame {}\\n'.format(len(test_set.df)))\n",
    "print('Few row of data\\n{}\\n'.format(test_set.df.head()))\n",
    "\n",
    "print('Number of video {}\\n'.format(len(test_set.sentences_index)))\n",
    "\n",
    "videos = list(test_set.sentences_index.keys())\n",
    "\n",
    "for i in range(10):\n",
    "    video = videos[np.random.randint(len(videos))]\n",
    "    print('Video [{}] has sequence {}'.format(video, test_set.sentences_index[video]))\n",
    "    print('Video [{}] has words    {}\\n'.format(video, [test_set.wordlist[i] for i in test_set.sentences_index[video]]))"
   ]
  },
  {
   "cell_type": "markdown",
   "metadata": {},
   "source": [
    "The getters are `self.get_item_sequences, self.get_item_Xlengths` are now taken an integer argument."
   ]
  },
  {
   "cell_type": "code",
   "execution_count": 32,
   "metadata": {},
   "outputs": [
    {
     "name": "stdout",
     "output_type": "stream",
     "text": [
      "dict_keys([0, 1, 2, 3, 4, 5, 6, 7, 8, 9, 10, 11, 12, 13, 14, 15, 16, 17, 18, 19, 20, 21, 22, 23, 24, 25, 26, 27, 28, 29, 30, 31, 32, 33, 34, 35, 36, 37, 38, 39, 40, 41, 42, 43, 44, 45, 46, 47, 48, 49, 50, 51, 52, 53, 54, 55, 56, 57, 58, 59, 60, 61, 62, 63, 64, 65, 66, 67, 68, 69, 70, 71, 72, 73, 74, 75, 76, 77, 78, 79, 80, 81, 82, 83, 84, 85, 86, 87, 88, 89, 90, 91, 92, 93, 94, 95, 96, 97, 98, 99, 100, 101, 102, 103, 104, 105, 106, 107, 108, 109, 110, 111, 112, 113, 114, 115, 116, 117, 118, 119, 120, 121, 122, 123, 124, 125, 126, 127, 128, 129, 130, 131, 132, 133, 134, 135, 136, 137, 138, 139, 140, 141, 142, 143, 144, 145, 146, 147, 148, 149, 150, 151, 152, 153, 154, 155, 156, 157, 158, 159, 160, 161, 162, 163, 164, 165, 166, 167, 168, 169, 170, 171, 172, 173, 174, 175, 176, 177])\n"
     ]
    }
   ],
   "source": [
    "print(test_set.get_all_Xlengths().keys())"
   ]
  },
  {
   "cell_type": "markdown",
   "metadata": {},
   "source": [
    "## Model Selector\n",
    "For our problem, we have the following parameters\n",
    "\n",
    "* number of state for our HMM\n",
    "* features list to be used in training\n",
    "\n",
    "In order to decide which parameters to be used, one can use some score for each parameters set then chose the one that has the best score. There are few way to score a model:\n",
    "\n",
    "* **Bayesian Information Criterion** ([BIC](https://en.wikipedia.org/wiki/Bayesian_information_criterion)): we select the model with the lowest BIC score\n",
    "$$\n",
    "\\texttt{score}^{BIC} = -2*\\log L + p \\log N\n",
    "$$\n",
    "where $\\log L$ is the log-likelihood, $p$ is the number of free-parameters and $N$ is the sample-size.\n",
    "\n",
    "* **Discriminative Information Criterion** ([DIC](https://en.wikipedia.org/wiki/Deviance_information_criterion)): we select the model with the lowest DIC score\n",
    "$$\n",
    "\\texttt{score}^{DIC} = \\log(P(X_i) - \\frac{1}{M-1}\\sum_{j\\neq i}\\log(P(X_j)\n",
    "$$\n",
    "\n",
    "### BIC\n",
    "In above formula for **BIC**, the number of free-parameters $p$ for HMM-Gaussian is given as following\n",
    "$$\n",
    "\\begin{split}\n",
    " p &= \\texttt{numstates} - 1 + \\texttt{numstates} \\times (\\texttt{numstates}-1) + 2\\times \\texttt{numfeatures} \\times \\texttt{numstates}\\\\\n",
    "  &= \\texttt{numstates}^2 - 1 + 2\\times \\texttt{numfeatures} \\times \\texttt{numstates}\n",
    "\\end{split}\n",
    "$$"
   ]
  }
 ],
 "metadata": {
  "kernelspec": {
   "display_name": "Python 3",
   "language": "python",
   "name": "python3"
  },
  "language_info": {
   "codemirror_mode": {
    "name": "ipython",
    "version": 3
   },
   "file_extension": ".py",
   "mimetype": "text/x-python",
   "name": "python",
   "nbconvert_exporter": "python",
   "pygments_lexer": "ipython3",
   "version": "3.6.1"
  }
 },
 "nbformat": 4,
 "nbformat_minor": 2
}
